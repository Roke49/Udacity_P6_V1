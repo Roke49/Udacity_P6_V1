{
 "cells": [
  {
   "cell_type": "code",
   "execution_count": 18,
   "metadata": {
    "collapsed": false
   },
   "outputs": [],
   "source": [
    "#!/usr/bin/python\n",
    "# import required modules and load the dataset\n",
    "\n",
    "import numpy as np\n",
    "import pandas as pd\n",
    "import matplotlib.pyplot as plt\n",
    "from mpl_toolkits.basemap import Basemap\n",
    "from matplotlib import cm\n",
    "from matplotlib.patches import Polygon\n",
    "from matplotlib.colors import rgb2hex\n",
    "import math\n",
    "import json\n",
    "\n",
    "### The data file is from wonder.cdc.gov \n",
    "with open('../Climate_data/heat_wave_days.csv','r') as f:\n",
    "    df_data = pd.read_csv(f)\n",
    "### pandas will have converted the County Code 5-digit character string to int, so:\n",
    "df_data['CC'] = df_data['County Code'].apply(lambda x: \"%05d\" % (x))\n",
    "df_data.drop('County Code', axis = 1, inplace = True)\n",
    "df_data = df_data.rename(columns = {'CC':'County Code'})"
   ]
  },
  {
   "cell_type": "code",
   "execution_count": 19,
   "metadata": {
    "collapsed": true
   },
   "outputs": [],
   "source": [
    "OUTFILE = \"yearly_average_heat_wave_days.csv\"\n",
    "# calculate average by year:\n",
    "df_yearly_mean = df_data.groupby('Year')['N_days'].mean().to_frame()\n",
    "df_yearly_mean.reset_index(level='Year', inplace=True)\n",
    "\n",
    "df_yearly_mean['RM'] = df_yearly_mean['N_days'].rolling(window = 5, center = True).mean()\n",
    "with open(\"yearly_average_heat_wave_days.csv\", 'w') as f:\n",
    "    df_yearly_mean.to_csv(f, index=False)\n",
    "    \n"
   ]
  },
  {
   "cell_type": "code",
   "execution_count": 48,
   "metadata": {
    "collapsed": false
   },
   "outputs": [],
   "source": [
    "# create and write out color data for mapping in javascript code\n",
    "# desired color is normalized on range of minimum and maximum of 5-year county means\n",
    "# across entire dataset.\n",
    "# create 6 subsets based on date range\n",
    "five_yr_avg = pd.DataFrame()\n",
    "base_year = 1981\n",
    "max_days = 0.\n",
    "min_days = 153. #total number of days in data period\n",
    "for idx in range(6):\n",
    "    ymin = base_year + idx * 5\n",
    "    ymax = ymin + 4\n",
    "    df = df_data[(df_data['Year'] >= ymin) & (df_data['Year'] <= ymax)]\n",
    "    df = df.groupby('County Code')['N_days'].mean().to_frame()\n",
    "    df.reset_index(level = 'County Code', inplace = True)\n",
    "    # rounding here to closest integer value to facilitate lookup in color\n",
    "    # map array for map display\n",
    "    df['N_days'] = np.round(df['N_days']).astype(int)\n",
    "    if df['N_days'].min() < min_days:\n",
    "        min_days = df['N_days'].min()\n",
    "    if df['N_days'].max() > max_days:\n",
    "        max_days = df['N_days'].max()\n",
    "    if five_yr_avg.empty:\n",
    "        five_yr_avg = df\n",
    "    else:\n",
    "        five_yr_avg = five_yr_avg.merge(df, on = 'County Code')\n",
    "# min_days and max_days are now the minimum and maximum of all county-level 5-year averages\n",
    "# use matplotlib to create a color map on the range max_days for use by geojson map\n",
    "cmap = plt.cm.Oranges\n",
    "\n",
    "# did this 2 ways: making a dataframe with columns for number of days and color mapping,\n",
    "# and a dictionary exported as json\n",
    "n_days_list = pd.Series(data = range(max_days +1), name = 'N_days')    \n",
    "color_map = pd.Series([rgb2hex(cmap((float(x))/max_days)[:3]) for x in n_days_list], name = 'Color')\n",
    "n_days_list = n_days_list.to_frame()\n",
    "color_map = color_map.to_frame()\n",
    "df_cmap = n_days_list.merge(color_map, left_index = True, right_index = True)\n",
    "\n",
    "c_map_dict = {}\n",
    "for n in range(max_days + 1):\n",
    "    c_map_dict[n] = rgb2hex(cmap((float(n))/max_days)[:3])\n",
    "    \n",
    "# reconfigure the dataframe with the 5-year averages for each epoch so the json\n",
    "# structure will be optimal\n",
    "five_yr_avg.columns = ['County Code', '0', '1', '2', '3', '4', '5']\n",
    "five_yr_avg.set_index('County Code', inplace = True)\n",
    "five_yr_avg.to_json('five_yr_avg.json')\n",
    "\n",
    "with open('color_map.csv', 'w') as f:\n",
    "    df_cmap.to_csv(f, index = False)\n",
    "\n",
    "with open('color_map.json', 'w') as f:\n",
    "    json.dump(c_map_dict, f)"
   ]
  },
  {
   "cell_type": "code",
   "execution_count": null,
   "metadata": {
    "collapsed": true
   },
   "outputs": [],
   "source": []
  }
 ],
 "metadata": {
  "anaconda-cloud": {},
  "kernelspec": {
   "display_name": "Python [Root]",
   "language": "python",
   "name": "Python [Root]"
  },
  "language_info": {
   "codemirror_mode": {
    "name": "ipython",
    "version": 2
   },
   "file_extension": ".py",
   "mimetype": "text/x-python",
   "name": "python",
   "nbconvert_exporter": "python",
   "pygments_lexer": "ipython2",
   "version": "2.7.11"
  }
 },
 "nbformat": 4,
 "nbformat_minor": 0
}
